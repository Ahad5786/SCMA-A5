{
 "cells": [
  {
   "cell_type": "code",
   "execution_count": 3,
   "id": "4a5e0691",
   "metadata": {},
   "outputs": [],
   "source": [
    "import os\n",
    "import pandas as pd\n",
    "import numpy as np\n",
    "import matplotlib.pyplot as plt\n",
    "import seaborn as sns\n",
    "\n"
   ]
  },
  {
   "cell_type": "code",
   "execution_count": 14,
   "id": "9b137658",
   "metadata": {},
   "outputs": [
    {
     "name": "stdout",
     "output_type": "stream",
     "text": [
      "C:\\Users\\Ahad\\OneDrive\\Pictures\\Documents\\Desktop\\scma\n"
     ]
    },
    {
     "name": "stderr",
     "output_type": "stream",
     "text": [
      "C:\\Users\\Ahad\\AppData\\Local\\Temp\\ipykernel_16012\\1107804043.py:11: DtypeWarning: Columns (1) have mixed types. Specify dtype option on import or set low_memory=False.\n",
      "  data = pd.read_csv(\"NSSO68.csv\")\n"
     ]
    }
   ],
   "source": [
    "# Set the working directory and verify it\n",
    "os.chdir(\"C:\\\\Users\\\\Ahad\\\\OneDrive\\\\Pictures\\\\Documents\\\\Desktop\\\\scma\")\n",
    "print(os.getcwd())\n",
    "\n",
    "\n",
    "# Load required libraries\n",
    "# These libraries should be installed using pip if not already present\n",
    "# !pip install pandas numpy matplotlib seaborn\n",
    "\n",
    "# Reading the file into Python\n",
    "data = pd.read_csv(\"NSSO68.csv\")\n",
    "\n"
   ]
  },
  {
   "cell_type": "code",
   "execution_count": 19,
   "id": "07d873a8",
   "metadata": {},
   "outputs": [
    {
     "name": "stdout",
     "output_type": "stream",
     "text": [
      "Dataset Information:\n",
      "\n",
      "Index(['slno', 'grp', 'Round_Centre', 'FSU_number', 'Round', 'Schedule_Number',\n",
      "       'Sample', 'Sector', 'state', 'State_Region',\n",
      "       ...\n",
      "       'pickle_v', 'sauce_jam_v', 'Othrprocessed_v', 'Beveragestotal_v',\n",
      "       'foodtotal_v', 'foodtotal_q', 'state_1', 'Region', 'fruits_df_tt_v',\n",
      "       'fv_tot'],\n",
      "      dtype='object', length=384)\n",
      "      slno                                 grp  Round_Centre  FSU_number  \\\n",
      "1357  1358  41200000000000000481476571299840.0             1       41200   \n",
      "1358  1359  41200000000000000481476571299840.0             1       41200   \n",
      "1359  1360  41200000000000000481476571299840.0             1       41200   \n",
      "1360  1361  41200000000000000481476571299840.0             1       41200   \n",
      "1361  1362  41200000000000000481476571299840.0             1       41200   \n",
      "\n",
      "      Round  Schedule_Number  Sample  Sector  state  State_Region  ...  \\\n",
      "1357     68               10       1       2     22           222  ...   \n",
      "1358     68               10       1       2     22           222  ...   \n",
      "1359     68               10       1       2     22           222  ...   \n",
      "1360     68               10       1       2     22           222  ...   \n",
      "1361     68               10       1       2     22           222  ...   \n",
      "\n",
      "      pickle_v  sauce_jam_v  Othrprocessed_v  Beveragestotal_v  foodtotal_v  \\\n",
      "1357       0.0          0.0              0.0         50.000000   793.916200   \n",
      "1358       0.0          0.0              0.0         50.000000   625.476750   \n",
      "1359       0.0          0.0             15.0         26.250000   317.369000   \n",
      "1360       0.0          0.0              0.0         33.333333   574.236667   \n",
      "1361       0.0          0.0              5.0         20.000000   372.529500   \n",
      "\n",
      "      foodtotal_q  state_1  Region  fruits_df_tt_v  fv_tot  \n",
      "1357    28.850510    CHTSD       2           47.80  186.80  \n",
      "1358    25.762998    CHTSD       2           49.30  207.30  \n",
      "1359    18.925525    CHTSD       2           16.80  132.55  \n",
      "1360    19.583819    CHTSD       2           52.00  188.00  \n",
      "1361    19.262790    CHTSD       2           20.25  120.75  \n",
      "\n",
      "[5 rows x 384 columns]\n",
      "(2169, 384)\n",
      "Missing Values Information:\n",
      "\n",
      "slno              0\n",
      "grp               0\n",
      "Round_Centre      0\n",
      "FSU_number        0\n",
      "Round             0\n",
      "                 ..\n",
      "foodtotal_q       0\n",
      "state_1           0\n",
      "Region            0\n",
      "fruits_df_tt_v    0\n",
      "fv_tot            0\n",
      "Length: 384, dtype: int64\n"
     ]
    }
   ],
   "source": [
    "# Filtering for CHTSD\n",
    "df = data[data['state_1'] == \"CHTSD\"]\n",
    "\n",
    "# Display dataset info\n",
    "print(\"Dataset Information:\\n\")\n",
    "print(df.columns)\n",
    "print(df.head())\n",
    "print(df.shape)\n",
    "\n",
    "# Finding missing values\n",
    "missing_info = df.isna().sum()\n",
    "print(\"Missing Values Information:\\n\")\n",
    "print(missing_info)\n",
    "\n"
   ]
  },
  {
   "cell_type": "code",
   "execution_count": 20,
   "id": "2e9b2378",
   "metadata": {},
   "outputs": [
    {
     "name": "stderr",
     "output_type": "stream",
     "text": [
      "C:\\Users\\Ahad\\AppData\\Local\\Temp\\ipykernel_16012\\1939185543.py:5: SettingWithCopyWarning: \n",
      "A value is trying to be set on a copy of a slice from a DataFrame.\n",
      "Try using .loc[row_indexer,col_indexer] = value instead\n",
      "\n",
      "See the caveats in the documentation: https://pandas.pydata.org/pandas-docs/stable/user_guide/indexing.html#returning-a-view-versus-a-copy\n",
      "  chtsdnew['Meals_At_Home'] = chtsdnew['Meals_At_Home'].fillna(chtsdnew['Meals_At_Home'].mean())\n"
     ]
    }
   ],
   "source": [
    "# Subsetting the data\n",
    "chtsdnew = df[['state_1', 'District', 'Region', 'Sector', 'State_Region', 'Meals_At_Home', 'ricepds_v', 'Wheatpds_q', 'chicken_q', 'pulsep_q', 'wheatos_q', 'No_of_Meals_per_day']]\n",
    "\n",
    "# Impute missing values with mean for specific columns\n",
    "chtsdnew['Meals_At_Home'] = chtsdnew['Meals_At_Home'].fillna(chtsdnew['Meals_At_Home'].mean())\n",
    "\n",
    "# Finding outliers and removing them\n",
    "def remove_outliers(df, column_name):\n",
    "    Q1 = df[column_name].quantile(0.25)\n",
    "    Q3 = df[column_name].quantile(0.75)\n",
    "    IQR = Q3 - Q1\n",
    "    lower_threshold = Q1 - (1.5 * IQR)\n",
    "    upper_threshold = Q3 + (1.5 * IQR)\n",
    "    return df[(df[column_name] >= lower_threshold) & (df[column_name] <= upper_threshold)]\n",
    "\n",
    "outlier_columns = [\"ricepds_v\", \"chicken_q\"]\n",
    "for col in outlier_columns:\n",
    "    chtsdnew = remove_outliers(chtsdnew, col)\n",
    "\n"
   ]
  },
  {
   "cell_type": "code",
   "execution_count": 21,
   "id": "e593f301",
   "metadata": {},
   "outputs": [
    {
     "name": "stdout",
     "output_type": "stream",
     "text": [
      "Top Consuming Districts:\n",
      "\n",
      "    District  total_consumption\n",
      "10        11        1530.338289\n",
      "9         10        1503.413102\n",
      "1          2        1367.023922\n",
      "6          7         967.668297\n",
      "Region Consumption Summary:\n",
      "\n",
      "   Region  total_consumption\n",
      "1       2        8800.393114\n",
      "2       3        2369.273470\n",
      "0       1        1817.004637\n"
     ]
    }
   ],
   "source": [
    "# Summarize consumption\n",
    "chtsdnew['total_consumption'] = chtsdnew[['ricepds_v', 'Wheatpds_q', 'chicken_q', 'pulsep_q', 'wheatos_q']].sum(axis=1)\n",
    "\n",
    "# Summarize and display top consuming districts and regions\n",
    "def summarize_consumption(df, group_col):\n",
    "    summary = df.groupby(group_col)['total_consumption'].sum().reset_index().sort_values(by='total_consumption', ascending=False)\n",
    "    return summary\n",
    "\n",
    "district_summary = summarize_consumption(chtsdnew, 'District')\n",
    "region_summary = summarize_consumption(chtsdnew, 'Region')\n",
    "\n",
    "print(\"Top Consuming Districts:\\n\")\n",
    "print(district_summary.head(4))\n",
    "print(\"Region Consumption Summary:\\n\")\n",
    "print(region_summary)\n",
    "\n"
   ]
  },
  {
   "cell_type": "code",
   "execution_count": 22,
   "id": "bec2a92c",
   "metadata": {},
   "outputs": [
    {
     "name": "stdout",
     "output_type": "stream",
     "text": [
      "     state_1 District  Region Sector  State_Region  Meals_At_Home  ricepds_v  \\\n",
      "1357   CHTSD     Durg       2  URBAN           222           60.0        0.0   \n",
      "1358   CHTSD     Durg       2  URBAN           222           54.0        0.0   \n",
      "1360   CHTSD     Durg       2  URBAN           222           60.0        0.0   \n",
      "1361   CHTSD     Durg       2  URBAN           222           40.0        0.0   \n",
      "1362   CHTSD     Durg       2  URBAN           222           60.0        0.0   \n",
      "\n",
      "      Wheatpds_q  chicken_q  pulsep_q  wheatos_q  No_of_Meals_per_day  \\\n",
      "1357        0.00   0.600000       0.0   4.000000                  2.0   \n",
      "1358        0.00   0.250000       0.0   5.000000                  2.0   \n",
      "1360        0.00   0.500000       0.0   1.666667                  2.0   \n",
      "1361        1.75   0.000000       0.0   0.000000                  2.0   \n",
      "1362        0.00   0.166667       0.0   1.666667                  2.0   \n",
      "\n",
      "      total_consumption  \n",
      "1357           4.600000  \n",
      "1358           5.250000  \n",
      "1360           2.166667  \n",
      "1361           1.750000  \n",
      "1362           1.833333  \n"
     ]
    }
   ],
   "source": [
    "# Rename districts and sectors\n",
    "district_mapping = {\"1\": \"Koriya\", \"2\": \"Surguja\", \"3\": \"Jashpur\", \"4\": \"Raigarh\", \"5\": \"Korba\", \"6\": \"Janjgir - Champa\", \"7\": \"Bilaspur\", \"8\": \"Kawardha\", \"9\": \"Rajnandgaon\", \"10\": \"Durg\", \"11\": \"Raipur\", \"12\": \"Mahasamund\", \"13\": \"Dhamtari\", \"14\": \"Kanker\", \"15\": \"Bastar\", \"16\": \"Dantewada\", \"17\": \"Narayanpur\", \"18\": \"Bijapur\"}\n",
    "sector_mapping = {\"2\": \"URBAN\", \"1\": \"RURAL\"}\n",
    "\n",
    "chtsdnew['District'] = chtsdnew['District'].astype(str).map(district_mapping)\n",
    "chtsdnew['Sector'] = chtsdnew['Sector'].astype(str).map(sector_mapping)\n",
    "\n",
    "# View data\n",
    "print(chtsdnew.head())\n",
    "\n",
    "\n"
   ]
  },
  {
   "cell_type": "code",
   "execution_count": 23,
   "id": "566b7b35",
   "metadata": {},
   "outputs": [
    {
     "data": {
      "image/png": "[encoded data removed]",
      "text/plain": [
       "<Figure size 640x480 with 1 Axes>"
      ]
     },
     "metadata": {},
     "output_type": "display_data"
    }
   ],
   "source": [
    "# Plot histogram\n",
    "plt.hist(chtsdnew['total_consumption'], bins=10, color='blue', edgecolor='black')\n",
    "plt.xlabel(\"Consumption\")\n",
    "plt.ylabel(\"Frequency\")\n",
    "plt.title(\"Consumption Distribution in Chhattisgarh State\")\n",
    "plt.show()\n",
    "\n"
   ]
  },
  {
   "cell_type": "code",
   "execution_count": 24,
   "id": "915391b1",
   "metadata": {},
   "outputs": [],
   "source": [
    "# Summarize and plot total consumption per district\n",
    "CHTSD_consumption = chtsdnew.groupby('District')['total_consumption'].sum().reset_index()\n",
    "\n"
   ]
  },
  {
   "cell_type": "code",
   "execution_count": 25,
   "id": "94969cc6",
   "metadata": {
    "scrolled": true
   },
   "outputs": [
    {
     "data": {
      "image/png": "[encoded data removed]",
      "text/plain": [
       "<Figure size 1200x600 with 1 Axes>"
      ]
     },
     "metadata": {},
     "output_type": "display_data"
    }
   ],
   "source": [
    "# Plot bar chart\n",
    "plt.figure(figsize=(12, 6))\n",
    "sns.barplot(x='District', y='total_consumption', data=CHTSD_consumption, palette='Blues_d')\n",
    "plt.xticks(rotation=90)\n",
    "plt.xlabel(\"District\")\n",
    "plt.ylabel(\"Total Consumption\")\n",
    "plt.title(\"Total Consumption per District\")\n",
    "plt.show()"
   ]
  },
  {
   "cell_type": "markdown",
   "id": "bbcead19",
   "metadata": {},
   "source": [
    "Part B"
   ]
  },
  {
   "cell_type": "code",
   "execution_count": 26,
   "id": "6baf145f",
   "metadata": {},
   "outputs": [],
   "source": [
    "#pip install geopandas"
   ]
  },
  {
   "cell_type": "code",
   "execution_count": 27,
   "id": "9d2e20be",
   "metadata": {},
   "outputs": [
    {
     "ename": "NameError",
     "evalue": "name 'gpd' is not defined",
     "output_type": "error",
     "traceback": [
      "\u001b[1;31m---------------------------------------------------------------------------\u001b[0m",
      "\u001b[1;31mNameError\u001b[0m                                 Traceback (most recent call last)",
      "Cell \u001b[1;32mIn[27], line 6\u001b[0m\n\u001b[0;32m      1\u001b[0m \u001b[38;5;66;03m#import geopandas as gpd\u001b[39;00m\n\u001b[0;32m      2\u001b[0m \u001b[38;5;66;03m#import pandas as pd\u001b[39;00m\n\u001b[0;32m      3\u001b[0m \u001b[38;5;66;03m#import matplotlib.pyplot as plt\u001b[39;00m\n\u001b[0;32m      4\u001b[0m \n\u001b[0;32m      5\u001b[0m \u001b[38;5;66;03m# Read the GeoJSON file\u001b[39;00m\n\u001b[1;32m----> 6\u001b[0m data_map \u001b[38;5;241m=\u001b[39m gpd\u001b[38;5;241m.\u001b[39mread_file(\u001b[38;5;124m\"\u001b[39m\u001b[38;5;124mE:\u001b[39m\u001b[38;5;130;01m\\\\\u001b[39;00m\u001b[38;5;124mR\u001b[39m\u001b[38;5;130;01m\\\\\u001b[39;00m\u001b[38;5;124mAssignment 5\u001b[39m\u001b[38;5;130;01m\\\\\u001b[39;00m\u001b[38;5;124mCHHATTISGARH_DISTRICTS.geojson\u001b[39m\u001b[38;5;124m\"\u001b[39m)\n\u001b[0;32m      8\u001b[0m \u001b[38;5;66;03m# Display the data\u001b[39;00m\n\u001b[0;32m      9\u001b[0m \u001b[38;5;28mprint\u001b[39m(data_map\u001b[38;5;241m.\u001b[39mhead())\n",
      "\u001b[1;31mNameError\u001b[0m: name 'gpd' is not defined"
     ]
    }
   ],
   "source": [
    "#import geopandas as gpd\n",
    "#import pandas as pd\n",
    "#import matplotlib.pyplot as plt\n",
    "\n",
    "# Read the GeoJSON file\n",
    "data_map = gpd.read_file(\"E:\\\\R\\\\Assignment 5\\\\CHHATTISGARH_DISTRICTS.geojson\")\n",
    "\n",
    "# Display the data\n",
    "print(data_map.head())\n",
    "\n"
   ]
  },
  {
   "cell_type": "code",
   "execution_count": null,
   "id": "5bf7d8a6",
   "metadata": {},
   "outputs": [],
   "source": [
    "# Rename the column 'dtname' to 'District'\n",
    "data_map = data_map.rename(columns={'dtname': 'District'})\n",
    "\n",
    "\n",
    "CHTSD_consumption = pd.DataFrame({\n",
    "    'District': districts,\n",
    "    'total_consumption': consumption_values\n",
    "})\n",
    "\n"
   ]
  },
  {
   "cell_type": "code",
   "execution_count": null,
   "id": "cdf1b8cf",
   "metadata": {},
   "outputs": [],
   "source": [
    "# Merge the data based on 'District'\n",
    "data_map_data = data_map.merge(CHTSD_consumption, on='District', how='left')\n",
    "\n",
    "# Replace missing values in total_consumption with 0\n",
    "data_map_data['total_consumption'].fillna(0, inplace=True)\n",
    "\n",
    "# Plot using GeoPandas and Matplotlib\n",
    "fig, ax = plt.subplots(1, 1, figsize=(15, 10))\n",
    "data_map_data.plot(column='total_consumption', ax=ax, legend=True, cmap='YlOrRd')\n",
    "plt.title(\"Total Consumption by District\")\n",
    "plt.show()\n",
    "\n",
    "# Annotate districts with their names\n",
    "fig, ax = plt.subplots(1, 1, figsize=(15, 10))\n",
    "data_map_data.plot(column='total_consumption', ax=ax, legend=True, cmap='YlOrRd')\n",
    "data_map_data.apply(lambda x: ax.annotate(text=x['District'], xy=x.geometry.centroid.coords[0], ha='center'), axis=1)\n",
    "plt.title(\"Total Consumption by District\")\n",
    "plt.show()\n"
   ]
  },
  {
   "cell_type": "code",
   "execution_count": null,
   "id": "c8722eda",
   "metadata": {},
   "outputs": [],
   "source": []
  },
  {
   "cell_type": "code",
   "execution_count": null,
   "id": "3d0ccce5",
   "metadata": {},
   "outputs": [],
   "source": []
  },
  {
   "cell_type": "code",
   "execution_count": null,
   "id": "cb4f88b6",
   "metadata": {},
   "outputs": [],
   "source": []
  },
  {
   "cell_type": "code",
   "execution_count": null,
   "id": "042d67fe",
   "metadata": {},
   "outputs": [],
   "source": []
  },
  {
   "cell_type": "code",
   "execution_count": null,
   "id": "df3e77d2",
   "metadata": {},
   "outputs": [],
   "source": []
  }
 ],
 "metadata": {
  "kernelspec": {
   "display_name": "Python 3 (ipykernel)",
   "language": "python",
   "name": "python3"
  },
  "language_info": {
   "codemirror_mode": {
    "name": "ipython",
    "version": 3
   },
   "file_extension": ".py",
   "mimetype": "text/x-python",
   "name": "python",
   "nbconvert_exporter": "python",
   "pygments_lexer": "ipython3",
   "version": "3.11.5"
  }
 },
 "nbformat": 4,
 "nbformat_minor": 5
}
